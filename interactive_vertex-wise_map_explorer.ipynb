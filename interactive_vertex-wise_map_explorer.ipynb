{
 "cells": [
  {
   "cell_type": "code",
   "execution_count": 4,
   "metadata": {},
   "outputs": [],
   "source": [
    "import nibabel as nib\n",
    "import numpy as np\n",
    "import matplotlib.colors as mcolors\n",
    "from nilearn import plotting\n",
    "from nilearn import datasets\n",
    "import matplotlib.cm as mplcm\n",
    "import os\n",
    "import ipywidgets as widgets\n",
    "from ipywidgets import interact\n",
    "from plotly.subplots import make_subplots"
   ]
  },
  {
   "cell_type": "code",
   "execution_count": null,
   "metadata": {},
   "outputs": [],
   "source": [
    "@interact(surface=widgets.ToggleButtons(options=('inflated' ,'white', 'pial'), description=('Cortical Surface')),\n",
    "          hemi_name=widgets.ToggleButtons(options=('left', 'right'), description=('Hemisphere')),\n",
    "          measure=widgets.ToggleButtons(options=('volume', 'thickness', 'area'), value='thickness', description=('Cortical metric')),\n",
    "          contrast=widgets.ToggleButtons(options=('all', 'Prg', 'Post', 'Overlap'), description=('Contrast')),\n",
    "          alpha=widgets.FloatSlider(value=0.05, min=0.0, max=0.2, step=0.001, description='alpha', readout_format='.3f'))\n",
    "def plot_cross_differences(surface, hemi_name, measure, contrast, alpha):\n",
    "    fsaverage = datasets.fetch_surf_fsaverage('fsaverage') \n",
    "    results_dir = os.path.join(os.getcwd(), 'main_data', 'without_covariates')\n",
    "    hemi = '{}h'.format(hemi_name[0])\n",
    "    if surface == 'inflated':\n",
    "        surface = 'infl'\n",
    "    surf = fsaverage[f'{surface}_{hemi_name}']\n",
    "    surf_bg = fsaverage[f'curv_{hemi_name}']\n",
    "\n",
    "    stat = 'FDRcorrP_across_hemi'\n",
    "    one_minus_alpha = 1.0 - alpha\n",
    "\n",
    "    # Defining colormaps and threshold for the plots, and custom handles for the legend\n",
    "    col = ['#FFFDA2', '#FFFDA2','#FFAB76','#98A8F8']\n",
    "    our_cmap = mcolors.LinearSegmentedColormap.from_list(\"\", col)\n",
    "    thr_val = 1.0\n",
    "\n",
    "    # Plotting\n",
    "    # Loading the fdr-pvalue maps \n",
    "    fdrcorrp_prg_map_name = f\"{hemi}.{measure}_sm10_{stat}_contrast_sesPrg.mgh\"\n",
    "    fdrcorrp_post_map_name = f\"{hemi}.{measure}_sm10_{stat}_contrast_sesPost.mgh\"\n",
    "    ses_prg_mfdrp_data = nib.load(f\"{results_dir}/{fdrcorrp_prg_map_name}\").get_fdata()\n",
    "    ses_post_mfdrp_data = nib.load(f\"{results_dir}/{fdrcorrp_post_map_name}\").get_fdata()\n",
    "    # Loading the sign maps \n",
    "    sgn_prg_map_name = f\"{hemi}.{measure}_sm10_sgn_contrast_sesPrg.mgh\"\n",
    "    sgn_post_map_name = f\"{hemi}.{measure}_sm10_sgn_contrast_sesPost.mgh\"\n",
    "    ses_prg_sgn_data = nib.load(f\"{results_dir}/{sgn_prg_map_name}\").get_fdata()\n",
    "    ses_post_sgn_data = nib.load(f\"{results_dir}/{sgn_post_map_name}\").get_fdata()\n",
    "    # Masking voxels with Controls > Mothers\n",
    "    ses_prg_mfdrp_data[ses_prg_sgn_data > 0] = 0\n",
    "    ses_post_mfdrp_data[ses_post_sgn_data > 0] = 0\n",
    "    # Computing thresholded significance maps\n",
    "    ses_prg_sig_map = np.where(ses_prg_mfdrp_data < one_minus_alpha, 0, 1)\n",
    "    ses_post_sig_map = np.where(ses_post_mfdrp_data < one_minus_alpha, 0, 1)\n",
    "    # Merge Pre and Post thresholded significance maps in one (1: Prg, 2: Post, 3: Overlap)\n",
    "    if contrast=='all':\n",
    "        surf_map = ses_prg_sig_map + ses_post_sig_map*2\n",
    "    if contrast == 'Prg':\n",
    "        surf_map = ses_prg_sig_map\n",
    "    if contrast == 'Post':\n",
    "        surf_map = ses_post_sig_map*2\n",
    "    if contrast == 'Overlap':\n",
    "        surf_map = 3.0*(np.logical_and(ses_post_sig_map, ses_prg_sig_map))\n",
    "    plot = plotting.plot_surf_roi(surf,\n",
    "                           surf_map,\n",
    "                           hemi=hemi_name,\n",
    "                           vmax=3,\n",
    "                           threshold=thr_val,\n",
    "                           bg_map=surf_bg,\n",
    "                           cmap=our_cmap,\n",
    "                           engine='plotly')\n",
    "    plot.show(renderer='notebook')"
   ]
  },
  {
   "cell_type": "code",
   "execution_count": null,
   "metadata": {},
   "outputs": [
    {
     "data": {
      "application/vnd.jupyter.widget-view+json": {
       "model_id": "0cef64d58b924b28a04086b3a7a58d6d",
       "version_major": 2,
       "version_minor": 0
      },
      "text/plain": [
       "interactive(children=(ToggleButtons(description='Model', options=('without_covariates', 'covariates_euler_age_…"
      ]
     },
     "metadata": {},
     "output_type": "display_data"
    }
   ],
   "source": [
    "@interact(model=widgets.ToggleButtons(options=(['without_covariates', 'covariates_euler_age_etiv', 'covariates_euler_age_etiv_psqi_pss', 'labor_analysis']), description=('Model')),\n",
    "          surface=widgets.ToggleButtons(options=('inflated' ,'white', 'pial'), description=('Cortical Surface')),\n",
    "          hemi_name=widgets.ToggleButtons(options=('left', 'right'), description=('Hemisphere')),\n",
    "          measure=widgets.ToggleButtons(options=('volume', 'thickness', 'area'), value='thickness', description=('Cortical metric')),\n",
    "          contrast=widgets.ToggleButtons(options=('Prg', 'Post', 'Prg-to-Post'), description=('Contrast')),\n",
    "          alpha=widgets.FloatSlider(value=0.05, min=0.0, max=0.2, step=0.001, description='alpha', readout_format='.3f'))\n",
    "def plot_signed_effect_sizes(model, surface, hemi_name, measure, contrast, alpha):\n",
    "    fsaverage = datasets.fetch_surf_fsaverage('fsaverage') \n",
    "    if model == 'labor_analysis':\n",
    "        results_dir = os.path.join('.', 'main_data', model, 'without_covariates')\n",
    "    else:\n",
    "        results_dir = os.path.join('.', 'main_data', model)\n",
    "    hemi = '{}h'.format(hemi_name[0])\n",
    "    if surface == 'inflated':\n",
    "        surface = 'infl'\n",
    "    surf = fsaverage[f'{surface}_{hemi_name}']\n",
    "    surf_bg = fsaverage[f'curv_{hemi_name}']\n",
    "    stat = 'FDRcorrP_across_hemi'\n",
    "    eff_size = 'partialETA2'\n",
    "    one_minus_alpha = 1.0 - alpha\n",
    "    vmax_value = 0.14\n",
    "    threshold = 0.001\n",
    "    colors_pos = mplcm.autumn(np.linspace(0, 1, 128))\n",
    "    colors_neg = mplcm.winter(np.linspace(1, 0, 128))\n",
    "    colors = np.vstack((colors_neg, colors_pos))\n",
    "    our_cmap = mcolors.LinearSegmentedColormap.from_list('my_colormap', colors)\n",
    "    if contrast == 'Prg-to-Post':\n",
    "        contrast = 'groupxses'\n",
    "    else:\n",
    "        contrast = f'ses{contrast}'\n",
    "    mfdrp_map_name = f\"{hemi}.{measure}_sm10_{stat}_contrast_{contrast}.mgh\"\n",
    "    eff_size_map_name = f\"{hemi}.{measure}_sm10_{eff_size}_contrast_{contrast}.mgh\"\n",
    "    sgn_map_name = f\"{hemi}.{measure}_sm10_sgn_contrast_{contrast}.mgh\"\n",
    "    long_mfdrp_data = nib.load(f\"{results_dir}/{mfdrp_map_name}\").get_fdata()\n",
    "    long_eff_size_data = nib.load(f\"{results_dir}/{eff_size_map_name}\").get_fdata()\n",
    "    long_sgn_data = nib.load(f\"{results_dir}/{sgn_map_name}\").get_fdata()\n",
    "    # Computing thresholded signed effect size maps\n",
    "    surf_map = long_sgn_data * long_eff_size_data * (long_mfdrp_data > one_minus_alpha)\n",
    "    plot=plotting.plot_surf_stat_map(surf,\n",
    "                                       surf_map,\n",
    "                                       hemi=hemi_name,\n",
    "                                       threshold=threshold,\n",
    "                                       vmax=vmax_value,\n",
    "                                       bg_map=surf_bg,\n",
    "                                       cmap=our_cmap,\n",
    "                                       colorbar=True,\n",
    "                                       engine='plotly')\n",
    "    plot.figure.data[1].colorbar.tickformat='.2f'\n",
    "    plot.show(renderer='notebook')"
   ]
  },
  {
   "cell_type": "code",
   "execution_count": null,
   "metadata": {},
   "outputs": [],
   "source": []
  }
 ],
 "metadata": {
  "kernelspec": {
   "display_name": "base",
   "language": "python",
   "name": "python3"
  },
  "language_info": {
   "codemirror_mode": {
    "name": "ipython",
    "version": 3
   },
   "file_extension": ".py",
   "mimetype": "text/x-python",
   "name": "python",
   "nbconvert_exporter": "python",
   "pygments_lexer": "ipython3",
   "version": "3.9.7"
  },
  "orig_nbformat": 4
 },
 "nbformat": 4,
 "nbformat_minor": 2
}
